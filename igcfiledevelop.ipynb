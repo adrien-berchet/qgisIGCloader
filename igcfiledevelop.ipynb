{
 "cells": [
  {
   "cell_type": "code",
   "execution_count": 34,
   "metadata": {},
   "outputs": [],
   "source": [
    "import datetime\n",
    "\n",
    "# there's a good igc parser here (in javascript)\n",
    "# https://github.com/GlidingWeb/IgcWebview2/blob/master/src/igc.js\n",
    "\n",
    "def GLoadIGC(fname):\n",
    "    fin = open(fname, \"rb\")   # sometimes get non-ascii characters in the header\n",
    "    IGCdatetime0 = None\n",
    "    recs, tind = [ ], [ ]\n",
    "    cdeclarations = [ ]\n",
    "    prevutime = 0\n",
    "    utimeoffset = 0   # handle the austrialia midday problem with utm\n",
    "    hfparams = { }\n",
    "    for l in fin:\n",
    "        l = l.decode(\"utf8\") \n",
    "        if l[:5] == 'HFDTE':    #  HFDTE090317\n",
    "            IGCdatetime0 = datetime.datetime(2000+int(l[9:11]), int(l[7:9]), int(l[5:7]))\n",
    "        elif l[:2] == 'HF':\n",
    "            ic = l.find(\":\")\n",
    "            if (ic != -1):\n",
    "                hfparams[l[2:ic]] = l[ic+1:].strip()\n",
    "            \n",
    "        elif l[0] == \"B\":   #  B1523345257365N00308169WA0030800393000\n",
    "            utime = int(l[1:3])*3600+int(l[3:5])*60+int(l[5:7]) + utimeoffset\n",
    "            if utime < prevutime - 1000:\n",
    "                utimeoffset += 3600*24\n",
    "                utime += 3600*24\n",
    "            latminutes1000 = int(l[7:9])*60000+int(l[9:11])*1000+int(l[11:14])\n",
    "            lngminutes1000 = (int(l[15:18])*60000+int(l[18:20])*1000+int(l[20:23]))*(l[23]=='E' and 1 or -1) \n",
    "            s = int(l[35:]) if len(l) >= 40 else 0\n",
    "            t = IGCdatetime0 + datetime.timedelta(seconds=utime)\n",
    "            recs.append((lngminutes1000/60000.0, latminutes1000/60000.0, int(l[25:30]), int(l[30:35]), s, t))\n",
    "            \n",
    "        elif l[0] == \"C\":\n",
    "            #C4323900N01240233ESCH059\n",
    "            l = \"......\"+l \n",
    "            latminutes1000 = int(l[7:9])*60000+int(l[9:11])*1000+int(l[11:14])\n",
    "            lngminutes1000 = (int(l[15:18])*60000+int(l[18:20])*1000+int(l[20:23]))*(l[23]=='E' and 1 or -1) \n",
    "            nm = l[24:].strip()\n",
    "            cdeclarations.append((lngminutes1000/60000.0, latminutes1000/60000.0, nm))\n",
    "            \n",
    "        else:\n",
    "            print(l)\n",
    "    return hfparams, recs, cdeclarations\n",
    "\n"
   ]
  },
  {
   "cell_type": "code",
   "execution_count": 37,
   "metadata": {},
   "outputs": [
    {
     "name": "stdout",
     "output_type": "stream",
     "text": [
      "AFLY08091\r\n",
      "\n",
      "I013638TAS\r\n",
      "\n",
      "E110630PEV\r\n",
      "\n",
      "E130859PEV\r\n",
      "\n",
      "GCA1F7481420E12BBA8EC05FED2C2BD17\r\n",
      "\n",
      "G31D5A4FFE325777BA65784CC68C76B41\r\n",
      "\n",
      "G137F26DE7989016400747E96018CDF60\r\n",
      "\n",
      "G000000000000000000120000FC000000\r\n",
      "\n"
     ]
    },
    {
     "data": {
      "text/plain": [
       "<matplotlib.collections.PathCollection at 0x7f2309213b70>"
      ]
     },
     "execution_count": 37,
     "metadata": {},
     "output_type": "execute_result"
    },
    {
     "data": {
      "image/png": "[encoded data removed]",
      "text/plain": [
       "<matplotlib.figure.Figure at 0x7f2309241080>"
      ]
     },
     "metadata": {},
     "output_type": "display_data"
    }
   ],
   "source": [
    "import matplotlib.pyplot as plt\n",
    "%matplotlib inline\n",
    "\n",
    "fname = \"examples/76QB0911.IGC\"\n",
    "hfparams, recs, cdeclarations = GLoadIGC(fname)\n",
    "\n",
    "plt.plot([rec[0]  for rec in recs], [rec[1]  for rec in recs])\n",
    "plt.scatter([cdec[0]  for cdec in cdeclarations], [cdec[1]  for cdec in cdeclarations])\n"
   ]
  },
  {
   "cell_type": "code",
   "execution_count": null,
   "metadata": {
    "collapsed": true
   },
   "outputs": [],
   "source": []
  }
 ],
 "metadata": {
  "kernelspec": {
   "display_name": "Python 3",
   "language": "python",
   "name": "python3"
  },
  "language_info": {
   "codemirror_mode": {
    "name": "ipython",
    "version": 3
   },
   "file_extension": ".py",
   "mimetype": "text/x-python",
   "name": "python",
   "nbconvert_exporter": "python",
   "pygments_lexer": "ipython3",
   "version": "3.6.1"
  }
 },
 "nbformat": 4,
 "nbformat_minor": 2
}
